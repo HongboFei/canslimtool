{
 "cells": [
  {
   "cell_type": "code",
   "execution_count": 1,
   "metadata": {
    "collapsed": true
   },
   "outputs": [],
   "source": [
    "import pandas as pd\n",
    "import requests\n",
    "from bs4 import BeautifulSoup as BSoup"
   ]
  },
  {
   "cell_type": "code",
   "execution_count": null,
   "metadata": {
    "collapsed": true
   },
   "outputs": [],
   "source": [
    "def get_Ibd_rank_and_group (ticker):\n",
    "    #first, search for the ticker symbol\n",
    "    url_name1 = \"http://myibd.investors.com/search/searchresults.aspx?Ntt={}\".format (ticker.to_lower)\n",
    "    req1 = requests.get(url_name1)\n",
    "    #then, find the link to the stock's page by following down the chain of links\n",
    "    #not sure if there is a more direct path to the stock's page\n",
    "    soup1 =  BSoup (req1.content, \"lxml\")\n",
    "    #if not a direct hit, there is a second step (hop) necessary\n",
    "    url_name2 = soup1.find (\"a\", {\"id\": \"ctl00_ctl00_secondaryContent_leftContent_SearchResultsMgrCtrl_didYouMeanCompanyRepeater_ctl00_didYouMeanLink\"})\n",
    "    if url_name2:\n",
    "        req2 = requests.get (url_name2.get('href'))\n",
    "        soup2 = BSoup (req2.content, \"lxml\")\n",
    "    #<span id=\"ctl00_ctl00_secondaryContent_leftContent_CustomContentCtrl_StockTwitMiniChart1_lblCompany\" onclick=\"javascript:window.open('http://research.investors.com/stock-quotes/nyse-thor-industries-inc-tho.htm')\">Thor Industries Inc</span>\n",
    "        url_name3 = soup2.find (\"span\", {\"id\": \"ctl00_ctl00_secondaryContent_leftContent_CustomContentCtrl_StockTwitMiniChart1_lblCompany\"})\n",
    "    else:\n",
    "        url_name3 = soup1.find (\"span\", {\"id\": \"ctl00_ctl00_secondaryContent_leftContent_CustomContentCtrl_StockTwitMiniChart1_lblCompany\"}) \n",
    "    tokens = url_name3.get ('onclick').split (\"'\")\n",
    "    for t in tokens:\n",
    "        if \"http://\" in t:\n",
    "            stock_link = t\n",
    "            break\n",
    "    req3 = requests.get (stock_link)\n",
    "    soup3 = BSoup (req3.content, \"lxml\")\n",
    "    #finally got the page. Now find the ticker's group, ranking, and no.1 in that group\n",
    "    market_group = soup3.find (\"div\", {\"class\": \"spansubHead\"})\n",
    "    #print (market_group.text)\n",
    "    \n",
    "    #if ticker is no.1, there should only be one anchor-tag, if not, there should be two (verify)\n",
    "    ticker_ranks = soup3.find_all (\"span\", {\"id\":\"ctl00_ctl00_secondaryContent_leftContent_GrpLeaders_ltlSymbolRank\"})\n",
    "    #print (spans_id1.text)\n",
    "    \n",
    "    #if ticker is not no. 1, the leader can be found in another anchor-tag inside the StockRolldiv:\n",
    "    #<a class=\"stockRoll\" href=\"http://research.investors.com/stock-quotes/nasdaq-alarmcom-holdings-inc-alrm.htm\" rel=\"/stocksymbol.axd?symbol=ALRM\">ALRM</a>\n",
    "    #need to verify searching for this only yields one result\n",
    "    group_no1 = soup3.find (\"span\", {\"id\": })\n",
    "\n"
   ]
  }
 ],
 "metadata": {
  "kernelspec": {
   "display_name": "Python 3",
   "language": "python",
   "name": "python3"
  },
  "language_info": {
   "codemirror_mode": {
    "name": "ipython",
    "version": 3
   },
   "file_extension": ".py",
   "mimetype": "text/x-python",
   "name": "python",
   "nbconvert_exporter": "python",
   "pygments_lexer": "ipython3",
   "version": "3.6.2"
  }
 },
 "nbformat": 4,
 "nbformat_minor": 2
}
