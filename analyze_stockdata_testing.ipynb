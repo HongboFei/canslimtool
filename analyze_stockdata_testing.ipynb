{
 "cells": [
  {
   "cell_type": "code",
   "execution_count": 1,
   "metadata": {},
   "outputs": [],
   "source": [
    "import requests\n",
    "from bs4 import BeautifulSoup as BSoup\n",
    "import pandas as pd"
   ]
  },
  {
   "cell_type": "markdown",
   "metadata": {},
   "source": [
    "## Setting up for testing\n",
    "Use sqlite3 to connect to the edgar_idx database"
   ]
  },
  {
   "cell_type": "code",
   "execution_count": 2,
   "metadata": {},
   "outputs": [],
   "source": [
    "import sqlite3\n",
    "conn3 = sqlite3.connect('edgar_idx.db')\n",
    "cursor=conn3.cursor()"
   ]
  },
  {
   "cell_type": "markdown",
   "metadata": {},
   "source": [
    "Set the ticker and pull out the list of 10-Q's and 10-K's for it from the database. Save each to a CSV file."
   ]
  },
  {
   "cell_type": "code",
   "execution_count": 3,
   "metadata": {},
   "outputs": [],
   "source": [
    "ticker = \"IT\""
   ]
  },
  {
   "cell_type": "markdown",
   "metadata": {},
   "source": [
    "## If necessary, update the idx and cik_ticker_name tables in the database"
   ]
  },
  {
   "cell_type": "code",
   "execution_count": 4,
   "metadata": {},
   "outputs": [
    {
     "name": "stdout",
     "output_type": "stream",
     "text": [
      "Updating master index.\n",
      "Updating CIK-ticker lookup table.\n"
     ]
    }
   ],
   "source": [
    "from MyEdgarDb import get_list_sec_filings, get_cik_ticker_lookup_db, lookup_cik_ticker\n",
    "print(\"Updating master index.\")\n",
    "get_list_sec_filings ()\n",
    "print(\"Updating CIK-ticker lookup table.\")\n",
    "get_cik_ticker_lookup_db ()"
   ]
  },
  {
   "cell_type": "code",
   "execution_count": null,
   "metadata": {},
   "outputs": [],
   "source": [
    "#cursor.execute('''SELECT * FROM idx WHERE Symbol=?;''', (\"ABBV\",))\n",
    "cursor.execute('''SELECT * FROM cik_ticker_name WHERE ticker=?;''',(ticker,))\n",
    "res=cursor.fetchall()\n",
    "print(res)\n",
    "cursor.execute('''SELECT * FROM idx WHERE cik=?;''', (res[0][0],))\n",
    "recs = cursor.fetchall()\n",
    "names = list(map(lambda x: x[0], cursor.description))\n",
    "print(names)\n",
    "df = pd.DataFrame(data=recs, columns=names)\n",
    "df['date'] = pd.to_datetime(df['date'])\n",
    "df.columns\n",
    "df.size\n",
    "df.dtypes\n",
    "#print(type(recs))\n",
    "print(recs)\n",
    "#conn3.close()\n",
    "df[df.type == \"10-Q\"].to_csv(\"TestData\\\\\"+ticker.lower()+\"_all_10qs.csv\", index=None)\n",
    "df[df.type == \"10-K\"].to_csv(\"TestData\\\\\"+ticker.lower()+\"_all_10ks.csv\", index=None)\n",
    "#df[df.type == \"20-F\"].to_csv(\"TestData\\\\\"+ticker.lower()+\"_all_20fs.csv\", index=None)"
   ]
  },
  {
   "cell_type": "markdown",
   "metadata": {},
   "source": [
    "The thus created CSV files can be read back in"
   ]
  },
  {
   "cell_type": "code",
   "execution_count": null,
   "metadata": {},
   "outputs": [],
   "source": [
    "all_10Ks =pd.read_csv(\"TestData\\\\{:s}_all_10ks.csv\".format(ticker.lower()), parse_dates=['date'], dtype={'cik':str, 'conm':str, 'type':str,'path':str})\n",
    "all_10Qs =pd.read_csv(\"TestData\\\\{:s}_all_10qs.csv\".format(ticker.lower()), parse_dates=['date'], dtype={'cik':str, 'conm':str, 'type':str,'path':str})"
   ]
  },
  {
   "cell_type": "markdown",
   "metadata": {},
   "source": [
    "## Verifying Canslim is correctly loaded/populated\n",
    "First, create the Canslim object, which should load all SecFilings* "
   ]
  },
  {
   "cell_type": "code",
   "execution_count": null,
   "metadata": {},
   "outputs": [],
   "source": [
    "from CanslimParams import CanslimParams\n",
    "canslim = CanslimParams(ticker, all_10Qs, all_10Ks)\n",
    "canslim.loadData()"
   ]
  },
  {
   "cell_type": "markdown",
   "metadata": {},
   "source": [
    "Print some diagnostics"
   ]
  },
  {
   "cell_type": "code",
   "execution_count": null,
   "metadata": {},
   "outputs": [],
   "source": [
    "print(canslim.n10Ks)\n",
    "print(canslim.n10Qs)\n",
    "print(canslim.errorLog)"
   ]
  },
  {
   "cell_type": "markdown",
   "metadata": {},
   "source": [
    "Print EPS's for all quarters and years"
   ]
  },
  {
   "cell_type": "code",
   "execution_count": null,
   "metadata": {
    "scrolled": true
   },
   "outputs": [],
   "source": [
    "for i in range(0, canslim.n10Qs):\n",
    "    print(canslim.getEpsQuarter(i))"
   ]
  },
  {
   "cell_type": "code",
   "execution_count": null,
   "metadata": {},
   "outputs": [],
   "source": [
    "for i in range(0, canslim.n10Ks):\n",
    "    print(canslim.getEpsAnnual(i))"
   ]
  },
  {
   "cell_type": "markdown",
   "metadata": {},
   "source": [
    "After the SecFilings have actually been accessed (through getting the EPS values), the quartersList and yearsList should be populated now."
   ]
  },
  {
   "cell_type": "code",
   "execution_count": null,
   "metadata": {},
   "outputs": [],
   "source": [
    "print(canslim.quartersList)\n",
    "print(canslim.yearsList)"
   ]
  },
  {
   "cell_type": "markdown",
   "metadata": {},
   "source": [
    "## Verifying that a 10Q filing is loaded correctly\n",
    "First, set the correct path to the filing to load (be sure to update the last two arguments, if necessary).\n",
    "Then, load the SecFiling."
   ]
  },
  {
   "cell_type": "code",
   "execution_count": null,
   "metadata": {},
   "outputs": [],
   "source": [
    "ticker = \"OSK\"  ## Note that this will overwrite the `ticker` set above"
   ]
  },
  {
   "cell_type": "code",
   "execution_count": null,
   "metadata": {
    "scrolled": true
   },
   "outputs": [],
   "source": [
    "from os import path, getenv\n",
    "#file_path = path.join(\"C:\", \"Users\", \"Carola\", \"jupyternbs\", \"SECDATA\", \"OSHKOSH CORP\", \"775158_OSHKOSH CORP_10-Q_2019-08-000000\")\n",
    "file_path = \"C:\\\\Users\\\\Carola\\\\jupyternbs\\\\SECDATA\\\\OSHKOSH CORP\\\\775158_OSHKOSH CORP_10-Q_2019-08-000000\""
   ]
  },
  {
   "cell_type": "code",
   "execution_count": null,
   "metadata": {},
   "outputs": [],
   "source": [
    "from SecFiling10Q import SecFiling10Q\n",
    "filing = SecFiling10Q(ticker)\n",
    "filing.load(file_path)"
   ]
  },
  {
   "cell_type": "markdown",
   "metadata": {},
   "source": [
    "Now we can print some things that should be loaded from the filing."
   ]
  },
  {
   "cell_type": "code",
   "execution_count": null,
   "metadata": {
    "scrolled": true
   },
   "outputs": [],
   "source": [
    "print(filing.getReportDate())\n",
    "print(\"Eps=\", filing.getEps())"
   ]
  },
  {
   "cell_type": "markdown",
   "metadata": {},
   "source": [
    "Print some diagnostics (all_tags contains the section from the filing-file that should contain all the relevant tags)"
   ]
  },
  {
   "cell_type": "code",
   "execution_count": null,
   "metadata": {},
   "outputs": [],
   "source": [
    "type(filing.all_tags)"
   ]
  },
  {
   "cell_type": "code",
   "execution_count": null,
   "metadata": {},
   "outputs": [],
   "source": [
    "c=0\n",
    "for t in filing.all_tags:\n",
    "    if 'us-gaap:IncomeLossFromContinuingOperationsPerBasicShare'.lower() in t.name.lower():\n",
    "        print(t)\n",
    "        c+=1\n",
    "print(c)"
   ]
  },
  {
   "cell_type": "markdown",
   "metadata": {},
   "source": [
    "## Verifying calculated data"
   ]
  },
  {
   "cell_type": "code",
   "execution_count": 31,
   "metadata": {},
   "outputs": [],
   "source": [
    "import numpy as np\n",
    "import matplotlib.pyplot as plt\n",
    "from datetime import date, timedelta"
   ]
  },
  {
   "cell_type": "markdown",
   "metadata": {},
   "source": [
    "### Verifying \"Stability of EPS Growth\"\n",
    "First, enter all the values into numpy-arrays. Hint: if these are in an Excel spreadsheet, one can copy+paste values only, then copy+paste transpose. Then, one can copy+paste these into notepad++ and find+replace tabs with commas, etc. Then paste here.\n",
    "For dates: format in Excel spreadsheet. in Notepad++: search for `([0-9]*-[0-9]*-[0-9]*)`, replace with `date\\(\\1\\)`"
   ]
  },
  {
   "cell_type": "code",
   "execution_count": 17,
   "metadata": {},
   "outputs": [],
   "source": [
    "## NVDA\n",
    "#y= np.array([3123000000, 3207000000, 2911000000, 2636000000, 2230000000]) #sales\n",
    "#y= np.array([1.81, 2.05, 1.86, 1.39, 0.98]) #eps\n",
    "#x=np.array([0.0, -91, -182, -273, -364])\n",
    "## AAPL\n",
    "#se = np.array([114949, 126878, 140199]) * 1000.0\n",
    "#ni = np.array([11519, 13822, 20065 ]) * 1000000.0\n",
    "#sales = np.array([53265, 61137, 88293, 52579, 45408, 52896, 78351]) * 1000000.0\n",
    "#eps = np.array([2.36, 2.75, 3.92, 2.18, 1.68, 2.11, 3.38])\n",
    "## ACLS\n",
    "#se= np.array([397074, 385614, 371527])*1000.0\n",
    "#ni = np.array([8838, 14669, 13915])*1000.0\n",
    "#sales = np.array([95374, 119333, 122185])*1000.0\n",
    "#eps = np.array([0.95, 2.26, 1.71])\n",
    "#days = np.array([0.0, -91, -182, -273, -364, -455, -546])\n",
    "## MMM\n",
    "eps = np.array([1.54, 2.3, 2.64, 3.14, 1.01, 0.88, 2.39, 2.65, 2.21, 1.92, 2.2, 2.13, 2.1, 1.69, 2.09, 2.06, 1.88])\n",
    "dates=np.array([date(2019, 3, 31), date(2018, 12, 31), date(2018, 9, 30), date(2018, 6, 30), date(2018, 3, 31), date(2017, 12, 31), date(2017, 9, 30), date(2017, 6, 30), date(2017, 3, 31), date(2016, 12, 31), date(2016, 9, 30), date(2016, 6, 30), date(2016, 3, 31), date(2015, 12, 31), date(2015, 9, 30), date(2015, 6, 30), date(2015, 3, 31)])\n",
    "sales=np.array([7863000000, 7945000000, 8152000000, 8390000000, 8278000000, 8008000000, 8172000000, 7810000000, 7685000000, 7329000000, 7709000000, 7662000000, 7409000000, 7298000000, 7712000000, 7686000000, 7578000000])\n",
    "se=np.array([9703000000, 10407000000, 10248000000, 10365000000, 10977000000, 11672000000, 12146000000, 11591000000, 10989000000, 11316000000, 12002000000, 11894000000, 11733000000, 12484000000, 12186000000, 13093000000, 13917000000])\n",
    "ni=np.array([891000000, 1361000000, 1543000000, 1857000000, 602000000, 534000000, 1429000000, 1583000000, 1323000000, 1163000000, 1329000000, 1291000000, 1275000000, 1041000000, 1296000000, 1303000000, 1201000000])\n",
    "delta=dates-dates[0]\n",
    "l=[]\n",
    "for d in delta:\n",
    "    l.append(d.days)\n",
    "days=np.array(l)"
   ]
  },
  {
   "cell_type": "markdown",
   "metadata": {},
   "source": [
    "Then, the data can be fitted. Set x and y to the appropriate data (ranges) to be fitted."
   ]
  },
  {
   "cell_type": "code",
   "execution_count": 45,
   "metadata": {},
   "outputs": [
    {
     "name": "stdout",
     "output_type": "stream",
     "text": [
      "Total error (sum(sigma_i^2)): 3.39633\n"
     ]
    }
   ],
   "source": [
    "y = eps[:-1]\n",
    "x = days[:-1]\n",
    "## Fit a polynomial of degree 2 through the data: ax**2 + bx + c. 'a' should be the acceleration\n",
    "p = np.polyfit(x, y, 2)\n",
    "## Calculate fitted y-values\n",
    "yfit = np.polyval(p, x)\n",
    "## Calculate the \"error\"\n",
    "sigma = (y - yfit) / y\n",
    "error = sigma * sigma\n",
    "res = error.sum()\n",
    "print(\"Total error (sum(sigma_i^2)): {:g}\".format(res))"
   ]
  },
  {
   "cell_type": "code",
   "execution_count": 44,
   "metadata": {},
   "outputs": [
    {
     "data": {
      "image/png": "[encoded data removed]",
      "text/plain": [
       "<Figure size 432x288 with 1 Axes>"
      ]
     },
     "metadata": {},
     "output_type": "display_data"
    }
   ],
   "source": [
    "plt.plot(x,y)\n",
    "plt.plot(x,yfit)\n",
    "plt.show()"
   ]
  },
  {
   "cell_type": "code",
   "execution_count": null,
   "metadata": {},
   "outputs": [],
   "source": [
    "print(p)\n",
    "print(error)\n",
    "print(res)\n",
    "print((sales[2] - sales[1])/(days[2] - days[1]))\n",
    "print((eps[2] - eps[1])/(days[2] - days[1]))\n",
    "print((y[2] - y[0])/(x[2] - x[0]))"
   ]
  }
 ],
 "metadata": {
  "kernelspec": {
   "display_name": "Python 3",
   "language": "python",
   "name": "python3"
  },
  "language_info": {
   "codemirror_mode": {
    "name": "ipython",
    "version": 3
   },
   "file_extension": ".py",
   "mimetype": "text/x-python",
   "name": "python",
   "nbconvert_exporter": "python",
   "pygments_lexer": "ipython3",
   "version": "3.6.5"
  }
 },
 "nbformat": 4,
 "nbformat_minor": 2
}
