{
 "cells": [
  {
   "cell_type": "code",
   "execution_count": 61,
   "metadata": {
    "collapsed": true
   },
   "outputs": [],
   "source": [
    "#get IBD rank\n",
    "#http://myibd.investors.com/search/searchresults.aspx?Ntt=thor\n",
    "#<a href=\"http://myibd.investors.com/search/searchresults.aspx?Ntt=Thor Industries Inc&amp;source=manager&amp;in_dym=true\" id=\"ctl00_ctl00_secondaryContent_leftContent_SearchResultsMgrCtrl_didYouMeanCompanyRepeater_ctl00_didYouMeanLink\">Thor Industries Inc</a>\n",
    "#1st: <span id=\"ctl00_ctl00_secondaryContent_leftContent_GrpLeaders_ltlSymbolRank\">1</span>\n",
    "#not 1st: <span id=\"ctl00_ctl00_secondaryContent_leftContent_GrpLeaders_ltlSymbolRank\">7</span>\n",
    "#<a class=\"stockRoll\" href=\"http://research.investors.com/stock-quotes/nasdaq-alarmcom-holdings-inc-alrm.htm\" rel=\"/stocksymbol.axd?symbol=ALRM\">ALRM</a>\n",
    "#IBD group:\n",
    "#<div class=\"spansubHead\">Bldg-Mobile/Mfg &amp; Rv Group</div>\n",
    "#<a class=\"stockRoll\" href=\"http://research.investors.com/stock-quotes/nasdaq-alarmcom-holdings-inc-alrm.htm\" rel=\"/stocksymbol.axd?symbol=ALRM\">ALRM</a>\n",
    "#<span id=\"ctl00_ctl00_secondaryContent_leftContent_GrpLeaders_ltlSymbolRank\">1</span>\n",
    "\n",
    "#https://snapshot.fidelity.com/fidresearch/snapshot/landing.jhtml#/research?symbol=LRCX&appCode=\n",
    "#https://snapshot.fidelity.com/fidresearch/snapshot/landing.jhtml#/financials?stockspage=financials&symbol=LRCX\n",
    "#https://research2.fidelity.com/fidelity/research/reports/pdf/getReport.asp?feedId=596&docTag=60123&version=20171020\n",
    "#<a href=\"http://research2.fidelity.com/fidelity/research/reports/pdf/getReport.asp?feedId=596&amp;docTag=60123&amp;version=20171020\" target=\"_blank\">\n",
    "\t\t\t\t\t\t\t\t<span class=\"bold\">S&amp;P Capital IQ<sup>®</sup> Company Report</span> (PDF)\n",
    "\t\t\t\t\t\t\t</a>"
   ]
  },
  {
   "cell_type": "code",
   "execution_count": 95,
   "metadata": {
    "collapsed": true
   },
   "outputs": [],
   "source": [
    "import requests\n",
    "from bs4 import BeautifulSoup as BSoup\n",
    "import pandas as pd"
   ]
  },
  {
   "cell_type": "code",
   "execution_count": 96,
   "metadata": {},
   "outputs": [
    {
     "name": "stdout",
     "output_type": "stream",
     "text": [
      "https://eresearch.fidelity.com/eresearch/evaluate/fundamentals/financials.jhtml?stockspage=incomestatement&symbols=LRCX&period=quarterly\n"
     ]
    }
   ],
   "source": [
    "#download the page\n",
    "#https://eresearch.fidelity.com/eresearch/evaluate/fundamentals/financials.jhtml?stockspage=financials&symbols=LRCX&period=quarterly  |  ?stockspage=cashflow\n",
    "#http://research2.fidelity.com/fidelity/research/reports/pdf/getReport.asp?feedId=596&docTag=60123&version=20171013\n",
    "r = requests.get(\"https://eresearch.fidelity.com/eresearch/evaluate/fundamentals/financials.jhtml?stockspage=incomestatement&symbols={}&period=quarterly\".format (\"LRCX\"))\n",
    "#now the html code is in the requests object:\n",
    "print (r.url)\n",
    "#BeautifulSoup can parse html code and convert into something usable\n",
    "soup =  BSoup (r.content, \"lxml\")\n",
    "#e.g. print html code in readable format\n",
    "#print (soup.prettify())"
   ]
  },
  {
   "cell_type": "code",
   "execution_count": 101,
   "metadata": {},
   "outputs": [
    {
     "name": "stdout",
     "output_type": "stream",
     "text": [
      "<tr>\n",
      "<td class=\"top-bottom-border col-300PX\"></td>\n",
      "<th class=\"top-bottom-border col-96PX lft-border\" scope=\"col\"><span class=\"bold\">2017</span> (09/30 - 06/30) </th>\n",
      "<th class=\"top-bottom-border col-96PX lft-border\" scope=\"col\"><span class=\"bold\">2017</span> (06/30 - 03/31) </th>\n",
      "<th class=\"top-bottom-border col-96PX lft-border\" scope=\"col\"><span class=\"bold\">2017</span> (03/31 - 12/31) </th>\n",
      "<th class=\"top-bottom-border col-96PX lft-border\" scope=\"col\"><span class=\"bold\">2016</span> (12/31 - 09/30) </th>\n",
      "<th class=\"top-bottom-border col-96PX lft-border\" scope=\"col\"><span class=\"bold\">2016</span> (09/30 - 06/30) </th>\n",
      "</tr>\n",
      "Index(['09/30/2017', '06/30/2017', '03/31/2017', '12/31/2016', '09/30/2016'], dtype='object') Index(['0', 'Sales/Turnover (Net)', 'Cost of Goods Sold',\n",
      "       'Gross Profit (Loss)', 'Selling, General and Administrative Expenses',\n",
      "       'Operating Income Before Depreciation',\n",
      "       'Depreciation and Amortization – Total\\t\\t',\n",
      "       'Operating Income After Depreciation', 'Interest and Related Expense',\n",
      "       'Non–operating Income (Expense) – Total', 'Key Component',\n",
      "       'Interest Income – Total', 'Special Items Income (Expense)',\n",
      "       'Pretax Income', ' Income Taxes – Total Expense (Credit)',\n",
      "       ' Minority Interest – Income Account',\n",
      "       ' Income Before Extraordinary Items',\n",
      "       ' Dividends – Preferred/Preference',\n",
      "       ' Income Before Extraordinary Items –Available for Common',\n",
      "       ' Common Stock Equivalents – Dollar Savings ',\n",
      "       ' Income Before Extraordinary Items –Adjusted for Common Stock Equivalents',\n",
      "       '  Extraordinary Items and Discontinued Operations Credit (Expense)',\n",
      "       'NET INCOME (LOSS)'],\n",
      "      dtype='object')\n",
      "0 0 \n",
      "1 0 2,478\n",
      "1 1 2,345\n",
      "1 2 2,154\n",
      "1 3  Log in for more information \n",
      "2 0 1,250\n",
      "2 1 1,197\n",
      "2 2 1,106\n",
      "3 0 1,228\n",
      "3 1 1,148\n",
      "3 2 1,048\n",
      "4 0 454\n",
      "4 1 456\n",
      "4 2 430\n",
      "5 0 774\n",
      "5 1 692\n",
      "5 2 617\n",
      "6 0 79\n",
      "6 1 79\n",
      "6 2 76\n",
      "7 0 695\n",
      "7 1 613\n",
      "7 2 541\n",
      "8 0 --\n",
      "8 1 25\n",
      "8 2 25\n",
      "9 0 --\n",
      "9 1 20\n",
      "9 2 17\n",
      "10 0  \n",
      "10 1  \n",
      "10 2  \n",
      "11 0 --\n",
      "11 1 --\n",
      "11 2 --\n",
      "12 0 (2)\n",
      "12 1 (5)\n",
      "12 2 (3)\n",
      "13 0 688\n",
      "13 1 603\n",
      "13 2 531\n",
      "14 0 97\n",
      "14 1 77\n",
      "14 2 (44)\n",
      "15 0 0\n",
      "15 1 0\n",
      "15 2 0\n",
      "16 0 591\n",
      "16 1 526\n",
      "16 2 575\n",
      "17 0 0\n",
      "17 1 0\n",
      "17 2 0\n",
      "18 0 591\n",
      "18 1 526\n",
      "18 2 575\n",
      "19 0 0\n",
      "19 1 0\n",
      "19 2 0\n",
      "20 0 591\n",
      "20 1 526\n",
      "20 2 575\n",
      "21 0 0\n",
      "21 1 0\n",
      "21 2 0\n",
      "22 0 591\n",
      "22 1 526\n",
      "22 2 575\n",
      "                                                   09/30/2017 06/30/2017  \\\n",
      "0                                                                    NaN   \n",
      "Sales/Turnover (Net)                                    2,478      2,345   \n",
      "Cost of Goods Sold                                      1,250      1,197   \n",
      "Gross Profit (Loss)                                     1,228      1,148   \n",
      "Selling, General and Administrative Expenses              454        456   \n",
      "Operating Income Before Depreciation                      774        692   \n",
      "Depreciation and Amortization – Total\\t\\t                  79         79   \n",
      "Operating Income After Depreciation                       695        613   \n",
      "Interest and Related Expense                               --         25   \n",
      "Non–operating Income (Expense) – Total                     --         20   \n",
      "Key Component                                                              \n",
      "Interest Income – Total                                    --         --   \n",
      "Special Items Income (Expense)                            (2)        (5)   \n",
      "Pretax Income                                             688        603   \n",
      " Income Taxes – Total Expense (Credit)                     97         77   \n",
      " Minority Interest – Income Account                         0          0   \n",
      " Income Before Extraordinary Items                        591        526   \n",
      " Dividends – Preferred/Preference                           0          0   \n",
      " Income Before Extraordinary Items –Available f...        591        526   \n",
      " Common Stock Equivalents – Dollar Savings                  0          0   \n",
      " Income Before Extraordinary Items –Adjusted fo...        591        526   \n",
      "  Extraordinary Items and Discontinued Operatio...          0          0   \n",
      "NET INCOME (LOSS)                                         591        526   \n",
      "\n",
      "                                                   03/31/2017 12/31/2016  \\\n",
      "0                                                         NaN        NaN   \n",
      "Sales/Turnover (Net)                                    2,154          0   \n",
      "Cost of Goods Sold                                      1,106        NaN   \n",
      "Gross Profit (Loss)                                     1,048        NaN   \n",
      "Selling, General and Administrative Expenses              430        NaN   \n",
      "Operating Income Before Depreciation                      617        NaN   \n",
      "Depreciation and Amortization – Total\\t\\t                  76        NaN   \n",
      "Operating Income After Depreciation                       541        NaN   \n",
      "Interest and Related Expense                               25        NaN   \n",
      "Non–operating Income (Expense) – Total                     17        NaN   \n",
      "Key Component                                                        NaN   \n",
      "Interest Income – Total                                    --        NaN   \n",
      "Special Items Income (Expense)                            (3)        NaN   \n",
      "Pretax Income                                             531        NaN   \n",
      " Income Taxes – Total Expense (Credit)                   (44)        NaN   \n",
      " Minority Interest – Income Account                         0        NaN   \n",
      " Income Before Extraordinary Items                        575        NaN   \n",
      " Dividends – Preferred/Preference                           0        NaN   \n",
      " Income Before Extraordinary Items –Available f...        575        NaN   \n",
      " Common Stock Equivalents – Dollar Savings                  0        NaN   \n",
      " Income Before Extraordinary Items –Adjusted fo...        575        NaN   \n",
      "  Extraordinary Items and Discontinued Operatio...          0        NaN   \n",
      "NET INCOME (LOSS)                                         575        NaN   \n",
      "\n",
      "                                                   09/30/2016  \n",
      "0                                                         NaN  \n",
      "Sales/Turnover (Net)                                      NaN  \n",
      "Cost of Goods Sold                                        NaN  \n",
      "Gross Profit (Loss)                                       NaN  \n",
      "Selling, General and Administrative Expenses              NaN  \n",
      "Operating Income Before Depreciation                      NaN  \n",
      "Depreciation and Amortization – Total\\t\\t                 NaN  \n",
      "Operating Income After Depreciation                       NaN  \n",
      "Interest and Related Expense                              NaN  \n",
      "Non–operating Income (Expense) – Total                    NaN  \n",
      "Key Component                                             NaN  \n",
      "Interest Income – Total                                   NaN  \n",
      "Special Items Income (Expense)                            NaN  \n",
      "Pretax Income                                             NaN  \n",
      " Income Taxes – Total Expense (Credit)                    NaN  \n",
      " Minority Interest – Income Account                       NaN  \n",
      " Income Before Extraordinary Items                        NaN  \n",
      " Dividends – Preferred/Preference                         NaN  \n",
      " Income Before Extraordinary Items –Available f...        NaN  \n",
      " Common Stock Equivalents – Dollar Savings                NaN  \n",
      " Income Before Extraordinary Items –Adjusted fo...        NaN  \n",
      "  Extraordinary Items and Discontinued Operatio...        NaN  \n",
      "NET INCOME (LOSS)                                         NaN  \n"
     ]
    }
   ],
   "source": [
    "#<th class=\"top-bottom-border col-96PX lft-border\" scope=\"col\"><span class=\"bold\">2017</span> (06/30 - 03/31) </th>\n",
    "dt=soup.find (\"table\", {\"class\": \"datatable-component\"})#, {\"class\":\"top-bottom-border col-96PX lft-borde\"})\n",
    "#the summary attribute contains a short description of the table, check that this is the Net Income table\n",
    "#print (\"net income\" in dt.get(\"summary\").lower ())\n",
    "#find all rows in this table; the first row contains the header with the dates\n",
    "allrows = dt.findChildren (name = \"tr\")\n",
    "firstrow=(allrows[0])\n",
    "print (firstrow)\n",
    "#get the dates on the table:\n",
    "cols = []\n",
    "for f in firstrow.find_all (\"th\"):\n",
    "    cols.append(\"{}/{}\".format(f.text[6:11], f.text[:4]))\n",
    "#print ((dt.findChildren(name=\"td\")))\n",
    "alldatarows = (allrows[1:])\n",
    "idxs= [\"0\",]\n",
    "for row in allrows[1:]:\n",
    "    f = row.find (\"th\")\n",
    "    if f:\n",
    "        idxs.append (f.text)\n",
    "new_table = pd.DataFrame(columns=cols, index = idxs) # I know the size \n",
    "print (new_table.columns, new_table.index)\n",
    "   \n",
    "row_marker = 0\n",
    "for row in dt.find_all('tr'):\n",
    "    #print (\"row=\",row)\n",
    "    column_marker = 0\n",
    "    columns = row.find_all('td')\n",
    "    for column in columns:\n",
    "        #print (\"col=\",column)\n",
    "        print (row_marker, column_marker, column.get_text())\n",
    "        if not \"Log in\" in column.get_text():\n",
    "            new_table.iat[row_marker,column_marker] = column.get_text()\n",
    "        else:\n",
    "            new_table.iat[row_marker, column_marker] = 0.0\n",
    "        column_marker += 1\n",
    "    row_marker += 1\n",
    "        \n",
    "print (new_table)\n",
    "#print (pd.read_html(dt))\n",
    "#print (help(dt))\n",
    "#table = pd.read_html(\"https://eresearch.fidelity.com/eresearch/evaluate/fundamentals/financials.jhtml?stockspage=incomestatement&symbols={}&period=quarterly\".format (\"LRCX\"))\n",
    "#print (table)\n",
    "#for i in dt:\n",
    "    #if \"Net Income\" in i.summary:\n",
    "  #  print (pd.read_html(i))"
   ]
  },
  {
   "cell_type": "code",
   "execution_count": 16,
   "metadata": {
    "collapsed": true
   },
   "outputs": [],
   "source": [
    "#now can find all <a>-tags\n",
    "#soup.find_all (\"a\")\n",
    "#get all the hyperlinks\n",
    "#for link in soup.find_all(\"a\"):\n",
    "#    print (link.get (\"href\"))\n",
    "    #the link text\n",
    "    #link.text\n",
    "    #<span id=\"ctl00_ctl00_secondaryContent_leftContent_CustomContentCtrl_StockTwitMiniChart1_lblCompany\" onclick=\"javascript:window.open('http://research.investors.com/stock-quotes/nasdaq-atlassian-corp-plc-cl-a-team.htm')\">Atlassian Corp Plc Cl A</span>"
   ]
  },
  {
   "cell_type": "code",
   "execution_count": 17,
   "metadata": {},
   "outputs": [
    {
     "name": "stdout",
     "output_type": "stream",
     "text": [
      "[]\n"
     ]
    }
   ],
   "source": [
    "#can find the link to the stock's page\n",
    "stock_page = soup.find_all (\"a\", {\"id\": \"ctl00_ctl00_secondaryContent_leftContent_SearchResultsMgrCtrl_didYouMeanCompanyRepeater_ctl00_didYouMeanLink\"})\n",
    "if not stock_page:\n",
    "    print (stock_page)\n",
    "for link in stock_page:\n",
    "    print (link.get (\"href\"), link.text)"
   ]
  },
  {
   "cell_type": "code",
   "execution_count": 18,
   "metadata": {
    "collapsed": true
   },
   "outputs": [],
   "source": [
    "#help(stock_page[0])"
   ]
  },
  {
   "cell_type": "code",
   "execution_count": 19,
   "metadata": {
    "collapsed": true
   },
   "outputs": [],
   "source": [
    "#print (stock_page[0], \"\\n\")\n",
    "#print (stock_page[0].get_text(), \"\\n\")\n",
    "#print (stock_page[0].get('href'))"
   ]
  },
  {
   "cell_type": "code",
   "execution_count": 20,
   "metadata": {
    "collapsed": true
   },
   "outputs": [],
   "source": [
    "#follow down the link\n",
    "#r2=requests.get(stock_page[0].get('href'))"
   ]
  },
  {
   "cell_type": "code",
   "execution_count": 22,
   "metadata": {},
   "outputs": [
    {
     "name": "stdout",
     "output_type": "stream",
     "text": [
      "javascript:window.open('http://research.investors.com/stock-quotes/nasdaq-advanced-energy-inds-aeis.htm')\n",
      "1\n",
      "None\n",
      "Elec-Semiconductor Equip Group\n"
     ]
    }
   ],
   "source": [
    "soup2 = BSoup (r.content, \"lxml\")\n",
    "#<span id=\"ctl00_ctl00_secondaryContent_leftContent_CustomContentCtrl_StockTwitMiniChart1_lblCompany\" onclick=\"javascript:window.open('http://research.investors.com/stock-quotes/nyse-thor-industries-inc-tho.htm')\">Thor Industries Inc</span>\n",
    "stock_page2 = soup2.find (\"span\", {\"id\": \"ctl00_ctl00_secondaryContent_leftContent_CustomContentCtrl_StockTwitMiniChart1_lblCompany\"})\n",
    "print (stock_page2.get ('onclick'))\n",
    "tokens = stock_page2.get ('onclick').split (\"'\")\n",
    "for t in tokens:\n",
    "    if \"http://\" in t:\n",
    "        stock_link = t\n",
    "        break\n",
    "r3 = requests.get (stock_link)\n",
    "soup3 = BSoup (r3.content, \"lxml\")\n",
    "#can find all <span>'s with a certain id:\n",
    "\n",
    "#spans_id1 = soup3.find_all (\"span\")\n",
    "#there is only one occurrence of this (should verify?)\n",
    "spans_id1 = soup3.find (\"span\", {\"id\":\"ctl00_ctl00_secondaryContent_leftContent_GrpLeaders_ltlSymbolRank\"})\n",
    "print (spans_id1.text)\n",
    "\n",
    "#current rank:\n",
    "#<div id=\"ctl00_ctl00_secondaryContent_leftContent_GrpLeaders_currentRank\" class=\"divSymbolRank\"><span class=\"rank-left\">#</span><span id=\"ctl00_ctl00_secondaryContent_leftContent_GrpLeaders_spanSymbolRank\"><span id=\"ctl00_ctl00_secondaryContent_leftContent_GrpLeaders_ltlSymbolRank\">4</span></span></div>\n",
    "\n",
    "#first rank:\n",
    "group_no1 = soup3.find (\"a\", {\"class\": \"stockRoll\"})\n",
    "#print (len(group_no1))\n",
    "print (group_no1)\n",
    "\n",
    "market_group = soup3.find (\"div\", {\"class\": \"spansubHead\"})\n",
    "print (market_group.text)\n"
   ]
  },
  {
   "cell_type": "code",
   "execution_count": 106,
   "metadata": {},
   "outputs": [
    {
     "ename": "ModuleNotFoundError",
     "evalue": "No module named 'pdfminer'",
     "output_type": "error",
     "traceback": [
      "\u001b[1;31m---------------------------------------------------------------------------\u001b[0m",
      "\u001b[1;31mModuleNotFoundError\u001b[0m                       Traceback (most recent call last)",
      "\u001b[1;32m<ipython-input-106-5fe83b91e448>\u001b[0m in \u001b[0;36m<module>\u001b[1;34m()\u001b[0m\n\u001b[0;32m      1\u001b[0m \u001b[1;31m#    import PyPDF2\u001b[0m\u001b[1;33m\u001b[0m\u001b[1;33m\u001b[0m\u001b[0m\n\u001b[1;32m----> 2\u001b[1;33m \u001b[1;32mfrom\u001b[0m \u001b[0mpdfminer\u001b[0m\u001b[1;33m.\u001b[0m\u001b[0mpdfinterp\u001b[0m \u001b[1;32mimport\u001b[0m \u001b[0mPDFResourceManager\u001b[0m\u001b[1;33m,\u001b[0m \u001b[0mPDFPageInterpreter\u001b[0m\u001b[1;33m\u001b[0m\u001b[0m\n\u001b[0m\u001b[0;32m      3\u001b[0m \u001b[1;32mfrom\u001b[0m \u001b[0mpdfminer\u001b[0m\u001b[1;33m.\u001b[0m\u001b[0mconverter\u001b[0m \u001b[1;32mimport\u001b[0m \u001b[0mTextConverter\u001b[0m\u001b[1;33m\u001b[0m\u001b[0m\n\u001b[0;32m      4\u001b[0m \u001b[1;32mfrom\u001b[0m \u001b[0mpdfminer\u001b[0m\u001b[1;33m.\u001b[0m\u001b[0mlayout\u001b[0m \u001b[1;32mimport\u001b[0m \u001b[0mLAParams\u001b[0m\u001b[1;33m\u001b[0m\u001b[0m\n\u001b[0;32m      5\u001b[0m \u001b[1;32mfrom\u001b[0m \u001b[0mpdfminer\u001b[0m\u001b[1;33m.\u001b[0m\u001b[0mpdfpage\u001b[0m \u001b[1;32mimport\u001b[0m \u001b[0mPDFPage\u001b[0m\u001b[1;33m\u001b[0m\u001b[0m\n",
      "\u001b[1;31mModuleNotFoundError\u001b[0m: No module named 'pdfminer'"
     ]
    }
   ],
   "source": [
    "#    import PyPDF2\n",
    "from pdfminer.pdfinterp import PDFResourceManager, PDFPageInterpreter\n",
    "from pdfminer.converter import TextConverter\n",
    "from pdfminer.layout import LAParams\n",
    "from pdfminer.pdfpage import PDFPage\n",
    "\n",
    "def convert(fname, pages=None):\n",
    "    if not pages:\n",
    "        pagenums = set()\n",
    "    else:\n",
    "        pagenums = set(pages)\n",
    "\n",
    "    output = StringIO()\n",
    "    manager = PDFResourceManager()\n",
    "    converter = TextConverter(manager, output, laparams=LAParams())\n",
    "    interpreter = PDFPageInterpreter(manager, converter)\n",
    "\n",
    "    infile = file(fname, 'rb')\n",
    "    for page in PDFPage.get_pages(infile, pagenums):\n",
    "        interpreter.process_page(page)\n",
    "    infile.close()\n",
    "    converter.close()\n",
    "    text = output.getvalue()\n",
    "    output.close\n",
    "    return text "
   ]
  },
  {
   "cell_type": "code",
   "execution_count": null,
   "metadata": {
    "collapsed": true
   },
   "outputs": [],
   "source": []
  }
 ],
 "metadata": {
  "kernelspec": {
   "display_name": "Python 3",
   "language": "python",
   "name": "python3"
  },
  "language_info": {
   "codemirror_mode": {
    "name": "ipython",
    "version": 3
   },
   "file_extension": ".py",
   "mimetype": "text/x-python",
   "name": "python",
   "nbconvert_exporter": "python",
   "pygments_lexer": "ipython3",
   "version": "3.6.2"
  }
 },
 "nbformat": 4,
 "nbformat_minor": 2
}
