{
 "cells": [
  {
   "cell_type": "code",
   "execution_count": 1,
   "metadata": {
    "collapsed": true
   },
   "outputs": [],
   "source": [
    "#get IBD rank\n",
    "#http://myibd.investors.com/search/searchresults.aspx?Ntt=thor\n",
    "#<a href=\"http://myibd.investors.com/search/searchresults.aspx?Ntt=Thor Industries Inc&amp;source=manager&amp;in_dym=true\" id=\"ctl00_ctl00_secondaryContent_leftContent_SearchResultsMgrCtrl_didYouMeanCompanyRepeater_ctl00_didYouMeanLink\">Thor Industries Inc</a>\n",
    "#1st: <span id=\"ctl00_ctl00_secondaryContent_leftContent_GrpLeaders_ltlSymbolRank\">1</span>\n",
    "#not 1st: <span id=\"ctl00_ctl00_secondaryContent_leftContent_GrpLeaders_ltlSymbolRank\">7</span>\n",
    "#<a class=\"stockRoll\" href=\"http://research.investors.com/stock-quotes/nasdaq-alarmcom-holdings-inc-alrm.htm\" rel=\"/stocksymbol.axd?symbol=ALRM\">ALRM</a>\n",
    "#IBD group:\n",
    "#<div class=\"spansubHead\">Bldg-Mobile/Mfg &amp; Rv Group</div>\n",
    "#<a class=\"stockRoll\" href=\"http://research.investors.com/stock-quotes/nasdaq-alarmcom-holdings-inc-alrm.htm\" rel=\"/stocksymbol.axd?symbol=ALRM\">ALRM</a>\n",
    "#<span id=\"ctl00_ctl00_secondaryContent_leftContent_GrpLeaders_ltlSymbolRank\">1</span>"
   ]
  },
  {
   "cell_type": "code",
   "execution_count": 2,
   "metadata": {
    "collapsed": true
   },
   "outputs": [],
   "source": [
    "import requests\n",
    "from bs4 import BeautifulSoup as BSoup"
   ]
  },
  {
   "cell_type": "code",
   "execution_count": 14,
   "metadata": {},
   "outputs": [
    {
     "data": {
      "text/plain": [
       "'http://myibd.investors.com/search/searchresults.aspx?Ntt=aeis'"
      ]
     },
     "execution_count": 14,
     "metadata": {},
     "output_type": "execute_result"
    }
   ],
   "source": [
    "#download the page\n",
    "r = requests.get(\"http://myibd.investors.com/search/searchresults.aspx?Ntt=aeis\")\n",
    "#now the html code is in the requests object:\n",
    "r.url"
   ]
  },
  {
   "cell_type": "code",
   "execution_count": 15,
   "metadata": {
    "collapsed": true
   },
   "outputs": [],
   "source": [
    "#BeautifulSoup can parse html code and convert into something usable\n",
    "soup =  BSoup (r.content, \"lxml\")\n",
    "#e.g. print html code in readable format\n",
    "#print (soup.prettify())"
   ]
  },
  {
   "cell_type": "code",
   "execution_count": 16,
   "metadata": {},
   "outputs": [],
   "source": [
    "#now can find all <a>-tags\n",
    "#soup.find_all (\"a\")\n",
    "#get all the hyperlinks\n",
    "#for link in soup.find_all(\"a\"):\n",
    "#    print (link.get (\"href\"))\n",
    "    #the link text\n",
    "    #link.text\n",
    "    #<span id=\"ctl00_ctl00_secondaryContent_leftContent_CustomContentCtrl_StockTwitMiniChart1_lblCompany\" onclick=\"javascript:window.open('http://research.investors.com/stock-quotes/nasdaq-atlassian-corp-plc-cl-a-team.htm')\">Atlassian Corp Plc Cl A</span>"
   ]
  },
  {
   "cell_type": "code",
   "execution_count": 17,
   "metadata": {},
   "outputs": [
    {
     "name": "stdout",
     "output_type": "stream",
     "text": [
      "[]\n"
     ]
    }
   ],
   "source": [
    "#can find the link to the stock's page\n",
    "stock_page = soup.find_all (\"a\", {\"id\": \"ctl00_ctl00_secondaryContent_leftContent_SearchResultsMgrCtrl_didYouMeanCompanyRepeater_ctl00_didYouMeanLink\"})\n",
    "if not stock_page:\n",
    "    print (stock_page)\n",
    "for link in stock_page:\n",
    "    print (link.get (\"href\"), link.text)"
   ]
  },
  {
   "cell_type": "code",
   "execution_count": 18,
   "metadata": {
    "collapsed": true
   },
   "outputs": [],
   "source": [
    "#help(stock_page[0])"
   ]
  },
  {
   "cell_type": "code",
   "execution_count": 19,
   "metadata": {},
   "outputs": [],
   "source": [
    "#print (stock_page[0], \"\\n\")\n",
    "#print (stock_page[0].get_text(), \"\\n\")\n",
    "#print (stock_page[0].get('href'))"
   ]
  },
  {
   "cell_type": "code",
   "execution_count": 20,
   "metadata": {
    "collapsed": true
   },
   "outputs": [],
   "source": [
    "#follow down the link\n",
    "#r2=requests.get(stock_page[0].get('href'))"
   ]
  },
  {
   "cell_type": "code",
   "execution_count": 22,
   "metadata": {},
   "outputs": [
    {
     "name": "stdout",
     "output_type": "stream",
     "text": [
      "javascript:window.open('http://research.investors.com/stock-quotes/nasdaq-advanced-energy-inds-aeis.htm')\n",
      "1\n",
      "None\n",
      "Elec-Semiconductor Equip Group\n"
     ]
    }
   ],
   "source": [
    "soup2 = BSoup (r.content, \"lxml\")\n",
    "#<span id=\"ctl00_ctl00_secondaryContent_leftContent_CustomContentCtrl_StockTwitMiniChart1_lblCompany\" onclick=\"javascript:window.open('http://research.investors.com/stock-quotes/nyse-thor-industries-inc-tho.htm')\">Thor Industries Inc</span>\n",
    "stock_page2 = soup2.find (\"span\", {\"id\": \"ctl00_ctl00_secondaryContent_leftContent_CustomContentCtrl_StockTwitMiniChart1_lblCompany\"})\n",
    "print (stock_page2.get ('onclick'))\n",
    "tokens = stock_page2.get ('onclick').split (\"'\")\n",
    "for t in tokens:\n",
    "    if \"http://\" in t:\n",
    "        stock_link = t\n",
    "        break\n",
    "r3 = requests.get (stock_link)\n",
    "soup3 = BSoup (r3.content, \"lxml\")\n",
    "#can find all <span>'s with a certain id:\n",
    "\n",
    "#spans_id1 = soup3.find_all (\"span\")\n",
    "#there is only one occurrence of this (should verify?)\n",
    "spans_id1 = soup3.find (\"span\", {\"id\":\"ctl00_ctl00_secondaryContent_leftContent_GrpLeaders_ltlSymbolRank\"})\n",
    "print (spans_id1.text)\n",
    "\n",
    "#current rank:\n",
    "#<div id=\"ctl00_ctl00_secondaryContent_leftContent_GrpLeaders_currentRank\" class=\"divSymbolRank\"><span class=\"rank-left\">#</span><span id=\"ctl00_ctl00_secondaryContent_leftContent_GrpLeaders_spanSymbolRank\"><span id=\"ctl00_ctl00_secondaryContent_leftContent_GrpLeaders_ltlSymbolRank\">4</span></span></div>\n",
    "\n",
    "#first rank:\n",
    "group_no1 = soup3.find (\"a\", {\"class\": \"stockRoll\"})\n",
    "#print (len(group_no1))\n",
    "print (group_no1)\n",
    "\n",
    "market_group = soup3.find (\"div\", {\"class\": \"spansubHead\"})\n",
    "print (market_group.text)\n"
   ]
  },
  {
   "cell_type": "code",
   "execution_count": 2,
   "metadata": {},
   "outputs": [
    {
     "name": "stdout",
     "output_type": "stream",
     "text": [
      "0                                                   ADBE\n",
      "1                                                   AEIS\n",
      "2                                                   BABA\n",
      "3                                                   ALGN\n",
      "4                                                    ADS\n",
      "5                                                   ALSN\n",
      "6                                                    AMP\n",
      "7                                                     AM\n",
      "8                                                    AIT\n",
      "9                                                   AMAT\n",
      "10                                                  AAOI\n",
      "11                                                   AGX\n",
      "12                                                  ANET\n",
      "13                                                   AWI\n",
      "14                                                  ASML\n",
      "15                                                  ATRI\n",
      "16                                                  ATHM\n",
      "17                                                   AVY\n",
      "18                                                  BNFT\n",
      "19                                                   BIG\n",
      "20                                                    BX\n",
      "21                                                   BYD\n",
      "22                                                   BPT\n",
      "23                                                   BCO\n",
      "24                                                  BRKR\n",
      "25                                                  CDNS\n",
      "26                                                    CP\n",
      "27                                                   CBG\n",
      "28                                                   CDW\n",
      "29                                                  CELG\n",
      "                             ...                        \n",
      "155                                                 TNET\n",
      "156                                                  TCX\n",
      "157                                                 ULTA\n",
      "158                                                  UNH\n",
      "159                                                 VEEV\n",
      "160                                                   VZ\n",
      "161                                                  VVI\n",
      "162                                                    V\n",
      "163                                                   VC\n",
      "164                                                WMMVY\n",
      "165                                                   WM\n",
      "166                                                   WB\n",
      "167                                                 YUMC\n",
      "168                                                   YY\n",
      "169                                                  NaN\n",
      "170                                                  NaN\n",
      "171                                                  NaN\n",
      "172    Fidelity does not guarantee the suitability or...\n",
      "173    Data and information is provided by third-part...\n",
      "174    All data is historical and is subject to revis...\n",
      "175    Performance data quoted represents past perfor...\n",
      "176    so that an investor's shares when redeemed may...\n",
      "177                                                  NaN\n",
      "178                          Fidelity Brokerage Services\n",
      "179                                     Member NYSE SIPC\n",
      "180                                     900 Salem Street\n",
      "181                                  Smithfield RI 02917\n",
      "182                                                  NaN\n",
      "183                                                  NaN\n",
      "184    AS OF 11:00 PM ET 10/01/2017 Quotes delayed at...\n",
      "Name: Symbol, Length: 185, dtype: object\n"
     ]
    }
   ],
   "source": [
    "import pandas as pd\n",
    "df = pd.read_excel (\"screener_results.xls\")\n",
    "#print (df.columns)\n",
    "#Symbol's are in alphabetical order, should eliminate everything past the first 'NaN'\n",
    "print (df.Symbol)"
   ]
  },
  {
   "cell_type": "code",
   "execution_count": null,
   "metadata": {
    "collapsed": true
   },
   "outputs": [],
   "source": []
  }
 ],
 "metadata": {
  "kernelspec": {
   "display_name": "Python 3",
   "language": "python",
   "name": "python3"
  },
  "language_info": {
   "codemirror_mode": {
    "name": "ipython",
    "version": 3
   },
   "file_extension": ".py",
   "mimetype": "text/x-python",
   "name": "python",
   "nbconvert_exporter": "python",
   "pygments_lexer": "ipython3",
   "version": "3.6.2"
  }
 },
 "nbformat": 4,
 "nbformat_minor": 2
}
