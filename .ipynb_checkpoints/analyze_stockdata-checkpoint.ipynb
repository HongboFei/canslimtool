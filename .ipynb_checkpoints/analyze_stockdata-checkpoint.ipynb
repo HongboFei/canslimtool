{
 "cells": [
  {
   "cell_type": "code",
   "execution_count": 1,
   "metadata": {
    "collapsed": true
   },
   "outputs": [],
   "source": [
    "#get IBD rank\n",
    "#http://myibd.investors.com/search/searchresults.aspx?Ntt=thor\n",
    "#<a href=\"http://myibd.investors.com/search/searchresults.aspx?Ntt=Thor Industries Inc&amp;source=manager&amp;in_dym=true\" id=\"ctl00_ctl00_secondaryContent_leftContent_SearchResultsMgrCtrl_didYouMeanCompanyRepeater_ctl00_didYouMeanLink\">Thor Industries Inc</a>\n",
    "#1st: <span id=\"ctl00_ctl00_secondaryContent_leftContent_GrpLeaders_ltlSymbolRank\">1</span>\n",
    "#not 1st: <span id=\"ctl00_ctl00_secondaryContent_leftContent_GrpLeaders_ltlSymbolRank\">7</span>\n",
    "#<a class=\"stockRoll\" href=\"http://research.investors.com/stock-quotes/nasdaq-alarmcom-holdings-inc-alrm.htm\" rel=\"/stocksymbol.axd?symbol=ALRM\">ALRM</a>\n",
    "#IBD group:\n",
    "#<div class=\"spansubHead\">Bldg-Mobile/Mfg &amp; Rv Group</div>"
   ]
  },
  {
   "cell_type": "code",
   "execution_count": null,
   "metadata": {
    "collapsed": true
   },
   "outputs": [],
   "source": []
  }
 ],
 "metadata": {
  "kernelspec": {
   "display_name": "Python 3",
   "language": "python",
   "name": "python3"
  },
  "language_info": {
   "codemirror_mode": {
    "name": "ipython",
    "version": 3
   },
   "file_extension": ".py",
   "mimetype": "text/x-python",
   "name": "python",
   "nbconvert_exporter": "python",
   "pygments_lexer": "ipython3",
   "version": "3.6.2"
  }
 },
 "nbformat": 4,
 "nbformat_minor": 2
}
