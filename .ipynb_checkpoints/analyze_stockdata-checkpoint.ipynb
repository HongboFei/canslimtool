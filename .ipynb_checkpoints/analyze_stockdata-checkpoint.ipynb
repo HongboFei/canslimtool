{
 "cells": [
  {
   "cell_type": "code",
   "execution_count": 6,
   "metadata": {
    "collapsed": true
   },
   "outputs": [],
   "source": [
    "import requests\n",
    "from bs4 import BeautifulSoup as BSoup\n",
    "import pandas as pd"
   ]
  },
  {
   "cell_type": "code",
   "execution_count": 1,
   "metadata": {},
   "outputs": [
    {
     "data": {
      "text/plain": [
       "<sqlalchemy.engine.base.RootTransaction at 0x1cbf6fcd978>"
      ]
     },
     "execution_count": 1,
     "metadata": {},
     "output_type": "execute_result"
    }
   ],
   "source": [
    "import pandas as pd\n",
    "from sqlalchemy import create_engine\n",
    "engine = create_engine('sqlite:///edgar_idx.db')\n",
    "conn = engine.connect()\n",
    "conn.begin()"
   ]
  },
  {
   "cell_type": "code",
   "execution_count": 11,
   "metadata": {
    "collapsed": true
   },
   "outputs": [],
   "source": [
    "import sqlite3\n",
    "conn3 = sqlite3.connect('edgar_idx.db')\n",
    "cursor=conn3.cursor()"
   ]
  },
  {
   "cell_type": "code",
   "execution_count": 12,
   "metadata": {
    "scrolled": true
   },
   "outputs": [
    {
     "name": "stdout",
     "output_type": "stream",
     "text": [
      "[('0001477641', 'DQ', 'DAQO NEW ENERGY CORP.')]\n",
      "['cik', 'conm', 'type', 'date', 'path']\n",
      "[]\n"
     ]
    }
   ],
   "source": [
    "ticker = \"DQ\"\n",
    "#cursor.execute('''SELECT * FROM idx WHERE Symbol=?;''', (\"ABBV\",))\n",
    "cursor.execute('''SELECT * FROM cik_ticker_name WHERE ticker=?;''',(ticker,))\n",
    "res=cursor.fetchall()\n",
    "print(res)\n",
    "cursor.execute('''SELECT * FROM idx WHERE cik=?;''', (res[0][0],))\n",
    "recs = cursor.fetchall()\n",
    "names = list(map(lambda x: x[0], cursor.description))\n",
    "print(names)\n",
    "df = pd.DataFrame(data=recs, columns=names)\n",
    "df['date'] = pd.to_datetime(df['date'])\n",
    "df.columns\n",
    "df.size\n",
    "df.dtypes\n",
    "#print(type(recs))\n",
    "print(recs)\n",
    "#conn3.close()\n",
    "#df[df.type == \"10-Q\"].to_csv(\"TestData\\\\\"+ticker.lower()+\"_all_10qs.csv\", index=None)\n",
    "#df[df.type == \"10-K\"].to_csv(\"TestData\\\\\"+ticker.lower()+\"_all_10ks.csv\", index=None)\n",
    "df[df.type == \"20-F\"].to_csv(\"TestData\\\\\"+ticker.lower()+\"_all_20fs.csv\", index=None)"
   ]
  },
  {
   "cell_type": "code",
   "execution_count": 10,
   "metadata": {},
   "outputs": [],
   "source": [
    "ticker = \"APTV\"\n",
    "req = requests.get(\"https://www.sec.gov/cgi-bin/browse-edgar?CIK={:s}&owner=exclude&action=getcompany&Find=Search\".format(ticker.lower()))\n",
    "soup = BSoup(req.content, \"lxml\")\n",
    "conmTag = soup.find(\"span\", {\"class\": \"companyName\"})\n",
    "if conmTag:\n",
    "    print(conmTag.text)\n",
    "atags = soup.findAll(\"a\")\n",
    "for t in atags:\n",
    "    if \"see all company filings\" in t.text:\n",
    "        print(t.text)"
   ]
  },
  {
   "cell_type": "code",
   "execution_count": 5,
   "metadata": {
    "collapsed": true
   },
   "outputs": [],
   "source": []
  },
  {
   "cell_type": "code",
   "execution_count": 9,
   "metadata": {},
   "outputs": [
    {
     "ename": "NameError",
     "evalue": "name 'self' is not defined",
     "output_type": "error",
     "traceback": [
      "\u001b[1;31m---------------------------------------------------------------------------\u001b[0m",
      "\u001b[1;31mNameError\u001b[0m                                 Traceback (most recent call last)",
      "\u001b[1;32m<ipython-input-9-90bae293debf>\u001b[0m in \u001b[0;36m<module>\u001b[1;34m()\u001b[0m\n\u001b[1;32m----> 1\u001b[1;33m \u001b[1;32mclass\u001b[0m \u001b[0mATest\u001b[0m\u001b[1;33m(\u001b[0m\u001b[0mself\u001b[0m\u001b[1;33m)\u001b[0m\u001b[1;33m:\u001b[0m\u001b[1;33m\u001b[0m\u001b[0m\n\u001b[0m\u001b[0;32m      2\u001b[0m     \u001b[0mself\u001b[0m\u001b[1;33m.\u001b[0m\u001b[0md\u001b[0m \u001b[1;33m=\u001b[0m \u001b[1;33m{\u001b[0m\u001b[1;33m}\u001b[0m\u001b[1;33m\u001b[0m\u001b[0m\n\u001b[0;32m      3\u001b[0m \u001b[1;33m\u001b[0m\u001b[0m\n\u001b[0;32m      4\u001b[0m     \u001b[1;32mdef\u001b[0m \u001b[0mgetValFromDict\u001b[0m\u001b[1;33m(\u001b[0m\u001b[0mself\u001b[0m\u001b[1;33m,\u001b[0m \u001b[0mn\u001b[0m\u001b[1;33m)\u001b[0m\u001b[1;33m:\u001b[0m\u001b[1;33m\u001b[0m\u001b[0m\n\u001b[0;32m      5\u001b[0m         \u001b[1;32mif\u001b[0m \u001b[1;32mnot\u001b[0m \u001b[0mself\u001b[0m\u001b[1;33m.\u001b[0m\u001b[0md\u001b[0m\u001b[1;33m:\u001b[0m\u001b[1;33m\u001b[0m\u001b[0m\n",
      "\u001b[1;31mNameError\u001b[0m: name 'self' is not defined"
     ]
    }
   ],
   "source": [
    "class ATest(self):\n",
    "    self.d = {}\n",
    "    \n",
    "    def getValFromDict(self, n):\n",
    "        if not self.d:\n",
    "            for i in range(0,20):\n",
    "                self.d[\"Val-{:d}\".format(i)]= i\n",
    "        print(self.d)"
   ]
  },
  {
   "cell_type": "code",
   "execution_count": 11,
   "metadata": {
    "collapsed": true
   },
   "outputs": [],
   "source": []
  },
  {
   "cell_type": "code",
   "execution_count": 12,
   "metadata": {
    "collapsed": true,
    "scrolled": true
   },
   "outputs": [],
   "source": [
    "all_10Qs.to_csv(\"TestData\\\\appl_all_10qs.csv\", index=None)\n",
    "all_10Ks.to_csv(\"TestData\\\\appl_all_10ks.csv\", index=None)"
   ]
  },
  {
   "cell_type": "code",
   "execution_count": 13,
   "metadata": {
    "scrolled": true
   },
   "outputs": [
    {
     "name": "stdout",
     "output_type": "stream",
     "text": [
      "       cik         conm  type       date  \\\n",
      "0  1045810  NVIDIA CORP  10-K 2016-03-17   \n",
      "1  1045810  NVIDIA CORP  10-K 2017-03-01   \n",
      "2  1045810  NVIDIA CORP  10-K 2018-02-28   \n",
      "\n",
      "                                          path  \n",
      "0  edgar/data/1045810/0001045810-16-000205.txt  \n",
      "1  edgar/data/1045810/0001045810-17-000027.txt  \n",
      "2  edgar/data/1045810/0001045810-18-000010.txt   cik             object\n",
      "conm            object\n",
      "type            object\n",
      "date    datetime64[ns]\n",
      "path            object\n",
      "dtype: object\n"
     ]
    }
   ],
   "source": [
    "all_10Ks =pd.read_csv(\"TestData\\\\nvda_all_10ks.csv\", parse_dates=['date'], dtype={'cik':str, 'conm':str, 'type':str,'path':str})\n",
    "all_10Qs =pd.read_csv(\"TestData\\\\nvda_all_10qs.csv\", parse_dates=['date'], dtype={'cik':str, 'conm':str, 'type':str,'path':str})\n"
   ]
  },
  {
   "cell_type": "code",
   "execution_count": 9,
   "metadata": {
    "collapsed": true
   },
   "outputs": [],
   "source": [
    "import numpy as np\n",
    "import matplotlib.pyplot as plt\n",
    "## NVDA\n",
    "#y= np.array([3123000000, 3207000000, 2911000000, 2636000000, 2230000000]) #sales\n",
    "#y= np.array([1.81, 2.05, 1.86, 1.39, 0.98]) #eps\n",
    "#x=np.array([0.0, -91, -182, -273, -364])\n",
    "## AAPL\n",
    "#se = np.array([114949, 126878, 140199]) * 1000.0\n",
    "#ni = np.array([11519, 13822, 20065 ]) * 1000000.0\n",
    "#sales = np.array([53265, 61137, 88293, 52579, 45408, 52896, 78351]) * 1000000.0\n",
    "#eps = np.array([2.36, 2.75, 3.92, 2.18, 1.68, 2.11, 3.38])\n",
    "## ACLS\n",
    "se= np.array([397074, 385614, 371527])*1000.0\n",
    "ni = np.array([8838, 14669, 13915])*1000.0\n",
    "sales = np.array([95374, 119333, 122185])*1000.0\n",
    "eps = np.array([0.27, 0.46, 0.43])\n",
    "days = np.array([0.0, -91, -182, -273, -364, -455, -546])\n",
    "y = sales[:3]\n",
    "x = days[:3]"
   ]
  },
  {
   "cell_type": "code",
   "execution_count": 10,
   "metadata": {
    "scrolled": true
   },
   "outputs": [
    {
     "data": {
      "image/png": "[encoded data removed]",
      "text/plain": [
       "<matplotlib.figure.Figure at 0x1cbf6fe99e8>"
      ]
     },
     "metadata": {},
     "output_type": "display_data"
    }
   ],
   "source": [
    "\n",
    "p = np.polyfit(x[:3], y[:3], 2)\n",
    "yfit = np.polyval(p, x)\n",
    "sigma = (y[:3] - yfit[:3]) / y[:3]\n",
    "error = sigma * sigma\n",
    "res = error.sum()\n",
    "plt.plot(x,y)\n",
    "plt.plot(x,yfit)\n",
    "plt.show()"
   ]
  },
  {
   "cell_type": "code",
   "execution_count": 11,
   "metadata": {
    "scrolled": false
   },
   "outputs": [
    {
     "name": "stdout",
     "output_type": "stream",
     "text": [
      "[ -1.27442338e+03  -3.79258242e+05   9.53740000e+07]\n",
      "[  1.56228479e-30   2.49481927e-31   3.71830018e-31]\n",
      "2.18359673575e-30\n",
      "-31340.6593407\n",
      "0.00032967032967\n",
      "-147313.186813\n"
     ]
    }
   ],
   "source": [
    "print(p)\n",
    "print(error)\n",
    "print(res)\n",
    "print((sales[2] - sales[1])/(days[2] - days[1]))\n",
    "print((eps[2] - eps[1])/(days[2] - days[1]))\n",
    "print((y[2] - y[0])/(x[2] - x[0]))"
   ]
  },
  {
   "cell_type": "code",
   "execution_count": 21,
   "metadata": {},
   "outputs": [
    {
     "data": {
      "text/plain": [
       "-546"
      ]
     },
     "execution_count": 21,
     "metadata": {},
     "output_type": "execute_result"
    }
   ],
   "source": [
    "import datetime as dt\n",
    "(dt.datetime(2016,12, 31) - dt.datetime(2018,6, 30)).days"
   ]
  },
  {
   "cell_type": "code",
   "execution_count": 32,
   "metadata": {},
   "outputs": [
    {
     "data": {
      "text/plain": [
       "2.1800000000000006"
      ]
     },
     "execution_count": 32,
     "metadata": {},
     "output_type": "execute_result"
    }
   ],
   "source": [
    "9.35-1.68- 2.11- 3.38"
   ]
  },
  {
   "cell_type": "code",
   "execution_count": 13,
   "metadata": {},
   "outputs": [
    {
     "data": {
      "text/plain": [
       "52579"
      ]
     },
     "execution_count": 13,
     "metadata": {},
     "output_type": "execute_result"
    }
   ],
   "source": [
    "229234 - 45408- 52896- 78351"
   ]
  },
  {
   "cell_type": "code",
   "execution_count": 44,
   "metadata": {
    "collapsed": true
   },
   "outputs": [],
   "source": [
    "import pandas as pd\n",
    "all_10Qs =pd.read_csv(\"TestData\\\\nvda_all_10qs.csv\", parse_dates=['date'], dtype={'cik':str, 'conm':str, 'type':str,'path':str})\n"
   ]
  },
  {
   "cell_type": "code",
   "execution_count": 50,
   "metadata": {},
   "outputs": [
    {
     "data": {
      "text/plain": [
       "1"
      ]
     },
     "execution_count": 50,
     "metadata": {},
     "output_type": "execute_result"
    }
   ],
   "source": [
    "all_10Qs[all_10Qs.date == \"2017-05-23\"].index[0]"
   ]
  },
  {
   "cell_type": "code",
   "execution_count": null,
   "metadata": {
    "collapsed": true
   },
   "outputs": [],
   "source": []
  },
  {
   "cell_type": "code",
   "execution_count": null,
   "metadata": {
    "collapsed": true
   },
   "outputs": [],
   "source": []
  },
  {
   "cell_type": "code",
   "execution_count": null,
   "metadata": {
    "collapsed": true
   },
   "outputs": [],
   "source": []
  },
  {
   "cell_type": "markdown",
   "metadata": {
    "collapsed": true
   },
   "source": [
    "## Candidate keywords  \n",
    "### Shareholder's equity  \n",
    "*  FinancialSupportCapitalContributionsMember\n",
    "*  StatementOfStockholdersEquityAbstract\n",
    "*  StockholdersEquity\n",
    "### EPS/Earnings/Profits/Income  \n",
    "*  EarningsPerShareBasic\n",
    "*  EarningsPerShareDiluted\n",
    "*  IncomeLossFromContinuingOperationsPerDilutedShare(?)\n",
    "*  IncomeLossFromContinuingOperationsPerBasicShare (?)\n",
    "### Sales/Net sales/net revenue  \n",
    "*  SalesRevenueNetMember (?)\n",
    "*  Search for 'Revenue' in income statement (?)\n",
    "### Others that might be of interest  \n",
    "*  us-gaap:StockRepurchasedDuringPeriodShares\n"
   ]
  },
  {
   "cell_type": "markdown",
   "metadata": {},
   "source": [
    "# Data to extract from filing:\n",
    "*  Earnings for current Q\n",
    "*  Earnings for last 12-20 Q\n",
    "*  Sales\n",
    "*  Annual EPS for last 4 years\n",
    "*  ROE (= net income / shareholder's equity)\n",
    "# Parameters to calculate for each company:\n",
    "*  Earnings increase: earning for current Q/earnings for same Q prior year\n",
    "*  Excellency of earnings increase: each of two most recent Q/same Q's prior year + growth rate over last three years\n",
    "*  Earnings growth acceleration in last 10 Q (calculate 2nd derivative?)\n",
    "   *  two consecutive Qs of earnings *deceleration* could mean trouble\n",
    "   *  plot earnings on log-scale for last 12 months to see acceleration\n",
    "*  Sales increase: \n",
    "   *  current Q/prior Q > 25%\n",
    "   *  *or* Sales growth is accelerating in the last three Q\n",
    "*  Acceleration of sales growth and earnings growth in last three Q (don't sell if accelerating!)\n",
    "*  Annual EPS should be increasing in each of the last three years.\n",
    "*  ROE>17%\n",
    "*  Stability of Q-EPS over last 3-5 years (plot EPS, fit line through data to determine growth trend, calculate deviation of EPS's from this growth trend (i.e. goodness of fit))"
   ]
  },
  {
   "cell_type": "code",
   "execution_count": null,
   "metadata": {
    "collapsed": true
   },
   "outputs": [],
   "source": [
    "import requests\n",
    "from bs4 import BeautifulSoup as Bsoup\n",
    "import pandas as pd"
   ]
  },
  {
   "cell_type": "code",
   "execution_count": null,
   "metadata": {
    "collapsed": true
   },
   "outputs": [],
   "source": [
    "ticker = \"NVDA\"\n",
    "## Read in the file\n",
    "f = open (\"1045810_NVIDIA-CORP_10-Q_2017-08-23\", \"r\")\n",
    "lines = f.readlines ()\n",
    "f.close ()\n",
    "ser = pd.Series (lines)\n",
    "#print (ser)\n",
    "#this denotes where the actual 10-Q starts. I think the 10-Q part is enclosed by <document> tags\n",
    "html_idxs = (ser[ser == '<TYPE>10-Q\\n'])\n",
    "#get the line number (== index number):\n",
    "print (\"html_idxs: {}\".format(html_idxs.index.values))\n",
    "#and the corresponding line\n",
    "print (lines[html_idxs.index.values[0]])\n",
    "#html_idxs_end = (ser['<\\TYPE>' in ser])\n",
    "#print (\"html_idxs_end: {}\".format (html_idxs_end.index.values))\n",
    "#print (lines[html_idxs_end.index.values[0]])\n",
    "\n",
    "#now I can parse the 10-Q with beautifulsoup:\n",
    "## Find a way to determine which lines to parse automatically. Really, I only need the html-tag, i.e. lines 55-63 \n",
    "## (see NVDA_finstat_test.hmtl)\n",
    "soup = Bsoup (\"\".join (lines[55:63]), \"lxml\") #find the end of the section by searching for /Document?\n",
    "#collect all div-tags for future use\n",
    "all_divs = soup.find_all (\"div\")\n",
    "#find the div-tag that contains 'ITEM 1.&#160;&#160;FINANCIAL STATEMENTS' which indicates the start of the\n",
    "#income statement's table\n",
    "#will this work on all filings???\n",
    "\n",
    "print (\"found {} occurrences\". format (len(all_divs)))\n",
    "tables = soup.find_all (\"table\")\n",
    "print (\"found {} tables\".format (len(tables)))\n",
    "#iterate over the div-tags, not sure if there is a better way. I think everything is is div tags.\n",
    "flag = False\n",
    "count = 0\n",
    "for f in all_divs:\n",
    "    #find beginning of financial statements\n",
    "    if (f.get_text().startswith (\"ITEM 1.\") and \"FINANCIAL STATEMENTS\" in f.get_text()):\n",
    "        flag = True\n",
    "        #print (count)\n",
    "    if (flag):\n",
    "        #print (f.get_text())\n",
    "        if (\"three months ended\" in f.text.lower()):\n",
    "            ## At this point, we found the div-tag with the income-statement table\n",
    "            ## Try to use pandas\n",
    "            #print((f.find_all('div', text='$')))\n",
    "            for ff in f.find_all('div',text='$'):\n",
    "                ff.decompose()\n",
    "            ## Almost! Just need to get rid of the '$', which are offsetting the affected rows by several columns\n",
    "            ## This removes the '$' (use re.compile for other currency symbols?), now what about the paren's denoting negative numbers?\n",
    "            tableDf=pd.read_html(str(f))\n",
    "            print(tableDf)\n",
    "            ## Manual method\n",
    "            trs = f.find_all(\"tr\")\n",
    "            #print (len(trs))\n",
    "            #print(trs[2].get_text())\n",
    "            for t in trs:\n",
    "                tlist = [item.get_text() for item in t.find_all(\"td\")]\n",
    "                print(\" || \".join(tlist))\n",
    "            #print (trs)\n",
    "            break\n",
    "        #print (\"\\n\")\n",
    "    count += 1\n",
    "\n"
   ]
  },
  {
   "cell_type": "markdown",
   "metadata": {
    "collapsed": true
   },
   "source": [
    "### See these urls for downloading the appropriate files, and parsing XBRL with Python/BeautifulSoup\n",
    "*  https://www.codeproject.com/Articles/1227765/Parsing-XBRL-with-Python\n",
    "*  https://www.slideshare.net/afalk42/xbrl-us-altova-webinar\n",
    "### Taxonomy:\n",
    "*  http://www.xbrlsite.com/LinkedData/BrowseObjectsByType_HTML.aspx?Type=%5BConcept%5D&Submit=Submit\n",
    "*  ~~I think I want the instance xml file for each filing,~~ though that \\*.txt file I've been downloading so far contains *everything* (I think). Could use that as well, the benefits are that the name of this file is standardized and I already have the machinery to download it in place, but the trade-off is that it's the biggest file for each filing. \n",
    "   *  The instance document can be found in the \\*.txt file; it has the `<description>` XBRL INSTANCE DOCUMENT. Inside the description-tag is the `<XBRL>`, which contains the XBRL-data for the instance document. Note that there are several XBRL- tags containing the various XBRL documents (schema, extension, linkbases, ...).  \n",
    "*  Search for the tags 'us-gaap:\\*', they contain the items for the financial statements.\n",
    "*  Also, Wikipedia has a good reference on the components of XBRL: \n",
    "   *  https://en.wikipedia.org/wiki/XBRL\n",
    "### To do:\n",
    "-  Figure out which taxonomy items I want/need, and all their permutations\n",
    "-  Determine the date on each item\n",
    "   -  Each us-gaap:\\* - tag has a context-ref (e.g. \"FI2017Q4\"). Find the corresponding context (in the instance document, below the us-gaap - tags):\n",
    "      ```\n",
    "      <xbrli:context id=\"FI2017Q4\">\n",
    "\t\t<xbrli:entity>\n",
    "\t\t\t<xbrli:identifier scheme=\"http://www.sec.gov/CIK\">0001045810</xbrli:identifier>\n",
    "\t\t</xbrli:entity>\n",
    "\t\t<xbrli:period>\n",
    "\t\t\t<xbrli:instant>2017-01-29</xbrli:instant>\n",
    "\t\t</xbrli:period>\n",
    "\t</xbrli:context>\n",
    "    ```  \n",
    "### Interesting classifiers:\n",
    "-  unitref=\n"
   ]
  }
 ],
 "metadata": {
  "kernelspec": {
   "display_name": "Python 3",
   "language": "python",
   "name": "python3"
  },
  "language_info": {
   "codemirror_mode": {
    "name": "ipython",
    "version": 3
   },
   "file_extension": ".py",
   "mimetype": "text/x-python",
   "name": "python",
   "nbconvert_exporter": "python",
   "pygments_lexer": "ipython3",
   "version": "3.6.2"
  }
 },
 "nbformat": 4,
 "nbformat_minor": 2
}
