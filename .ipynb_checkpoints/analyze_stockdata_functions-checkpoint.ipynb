{
 "cells": [
  {
   "cell_type": "code",
   "execution_count": 3,
   "metadata": {},
   "outputs": [],
   "source": [
    "import pandas as pd\n",
    "import requests\n",
    "from bs4 import BeautifulSoup as BSoup\n",
    "from datetime import datetime\n",
    "OK = True\n",
    "BAD = False"
   ]
  },
  {
   "cell_type": "code",
   "execution_count": 10,
   "metadata": {
    "collapsed": true
   },
   "outputs": [],
   "source": [
    "def check_response_ok (response):\n",
    "    import sys\n",
    "    try:\n",
    "        response.raise_for_status ()\n",
    "        return OK\n",
    "    except:\n",
    "        f = open (\"IBD_errors.log\", \"a\")\n",
    "        f.write ('{:%m/%d/%Y %H:%M:%S}'.format (datetime.now ()))\n",
    "        f.write (\" -- {}:\\n\\t\\t{}\".format (sys.exc_info ()[0], response.url))\n",
    "        return BAD\n",
    "    return BAD"
   ]
  },
  {
   "cell_type": "code",
   "execution_count": 17,
   "metadata": {},
   "outputs": [],
   "source": [
    "def get_Ibd_rank_and_group (ticker):\n",
    "    import numpy as np\n",
    "    #return the result as a dict containing values for keys 'group', 'rank', 'leader'\n",
    "    #if urls can not be accessed, returns an empty dict\n",
    "    #if not all values are found, returns NaN for the missing values\n",
    "    result = {}\n",
    "    #first, search for the ticker symbol\n",
    "    url_name1 = \"http://myibd.investors.com/search/searchresults.aspx?Ntt={}\".format (ticker.lower ())\n",
    "    print (\"url1: {}\".format (url_name1))\n",
    "    response1 = requests.get(url_name1)\n",
    "    if (check_response_ok (response1)):\n",
    "        #then, find the link to the stock's page by following down the chain of links\n",
    "        #not sure if there is a more direct path to the stock's page\n",
    "        soup1 =  BSoup (response1.content, \"lxml\")\n",
    "        #if not a direct hit, there is a second step (hop) necessary\n",
    "        url_name2 = soup1.find (\"a\", {\"id\": \"ctl00_ctl00_secondaryContent_leftContent_SearchResultsMgrCtrl_didYouMeanCompanyRepeater_ctl00_didYouMeanLink\"})\n",
    "        print (\"url2: {}\".format (url_name2))\n",
    "        if url_name2:\n",
    "            response2 = requests.get (url_name2.get('href'))\n",
    "            if (check_response_ok (response2)):\n",
    "                soup2 = BSoup (response2.content, \"lxml\")\n",
    "            #<span id=\"ctl00_ctl00_secondaryContent_leftContent_CustomContentCtrl_StockTwitMiniChart1_lblCompany\" onclick=\"javascript:window.open('http://research.investors.com/stock-quotes/nyse-thor-industries-inc-tho.htm')\">Thor Industries Inc</span>\n",
    "                url_name3 = soup2.find (\"span\", {\"id\": \"ctl00_ctl00_secondaryContent_leftContent_CustomContentCtrl_StockTwitMiniChart1_lblCompany\"})\n",
    "                print (\"url3a: {}\".format (url_name3))\n",
    "            else:\n",
    "                #---> what to do? return None, return NaN, set something to NaN?\n",
    "                return result\n",
    "        else:\n",
    "            url_name3 = soup1.find (\"span\", {\"id\": \"ctl00_ctl00_secondaryContent_leftContent_CustomContentCtrl_StockTwitMiniChart1_lblCompany\"}) \n",
    "            print (\"url3b: {}\".format (url_name3))\n",
    "        if not url_name3:\n",
    "            return result\n",
    "        tokens = url_name3.get ('onclick').split (\"'\")\n",
    "        #---> check that tokens contains valid data\n",
    "        if not tokens:\n",
    "            return result\n",
    "        for t in tokens:\n",
    "            if \"http://\" in t:\n",
    "                stock_link = t\n",
    "                break\n",
    "        response3 = requests.get (stock_link)\n",
    "        if (check_response_ok (response3)):\n",
    "            soup3 = BSoup (response3.content, \"lxml\")\n",
    "            #finally got the page. Now find the ticker's group, ranking, and no.1 in that group\n",
    "            market_group = soup3.find (\"div\", {\"class\": \"spansubHead\"})\n",
    "            if (market_group):\n",
    "                result[\"group\"] = market_group.text\n",
    "            else: \n",
    "                result[\"group\"] = None\n",
    "\n",
    "            #this span occurs only once, always contains the rank of the current ticker\n",
    "            ticker_rank = soup3.find (\"span\", {\"id\":\"ctl00_ctl00_secondaryContent_leftContent_GrpLeaders_ltlSymbolRank\"})\n",
    "            if (ticker_rank):\n",
    "                result[\"rank\"] = ticker_rank.text\n",
    "            else:\n",
    "                result[\"rank\"] = np.nan\n",
    "\n",
    "            #if ticker is not no. 1, the leader can be found in another anchor-tag inside the StockRolldiv\n",
    "            #this will return None if current ticker is no. 1\n",
    "            group_no1 = soup3.find (\"a\", {\"class\": \"stockRoll\"})\n",
    "            if (group_no1):\n",
    "                result[\"leader\"] = group_no1.text\n",
    "            else:\n",
    "                result[\"leader\"] = None\n",
    "        else:\n",
    "            return None\n",
    "    \n",
    "    #did not find a valid website on IBD for this ticker symbol\n",
    "    return result\n",
    "\n"
   ]
  },
  {
   "cell_type": "code",
   "execution_count": null,
   "metadata": {
    "collapsed": true
   },
   "outputs": [],
   "source": []
  },
  {
   "cell_type": "code",
   "execution_count": 19,
   "metadata": {},
   "outputs": [
    {
     "name": "stdout",
     "output_type": "stream",
     "text": [
      "url1: http://myibd.investors.com/search/searchresults.aspx?Ntt=baba\n",
      "url2: None\n",
      "url3b: <span id=\"ctl00_ctl00_secondaryContent_leftContent_CustomContentCtrl_StockTwitMiniChart1_lblCompany\" onclick=\"javascript:window.open('http://research.investors.com/stock-quotes/nyse-alibaba-group-hldg-ads-baba.htm')\">Alibaba Group Hldg Ads</span>\n",
      "{'group': 'Retail-Internet Group', 'rank': '1', 'leader': None}\n"
     ]
    }
   ],
   "source": [
    "if __name__ == \"__main__\":\n",
    "    symbol = \"BABA\"\n",
    "    ibd_data = get_Ibd_rank_and_group (symbol)\n",
    "    print (ibd_data)"
   ]
  }
 ],
 "metadata": {
  "kernelspec": {
   "display_name": "Python 3",
   "language": "python",
   "name": "python3"
  },
  "language_info": {
   "codemirror_mode": {
    "name": "ipython",
    "version": 3
   },
   "file_extension": ".py",
   "mimetype": "text/x-python",
   "name": "python",
   "nbconvert_exporter": "python",
   "pygments_lexer": "ipython3",
   "version": "3.6.2"
  }
 },
 "nbformat": 4,
 "nbformat_minor": 2
}
